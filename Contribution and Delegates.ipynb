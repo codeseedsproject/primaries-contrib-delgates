{
 "cells": [
  {
   "cell_type": "code",
   "execution_count": 1,
   "metadata": {
    "collapsed": false
   },
   "outputs": [],
   "source": [
    "import pandas as pd\n",
    "import numpy as np\n",
    "\n",
    "import matplotlib.pyplot as plt\n",
    "import seaborn as sns\n",
    "\n",
    "sns.set_style('white')\n",
    "%matplotlib inline"
   ]
  },
  {
   "cell_type": "code",
   "execution_count": 2,
   "metadata": {
    "collapsed": false
   },
   "outputs": [
    {
     "name": "stderr",
     "output_type": "stream",
     "text": [
      "/usr/lib/python2.7/site-packages/IPython/core/interactiveshell.py:2723: DtypeWarning: Columns (6) have mixed types. Specify dtype option on import or set low_memory=False.\n",
      "  interactivity=interactivity, compiler=compiler, result=result)\n"
     ]
    }
   ],
   "source": [
    "contrib_df = pd.read_table('P00000001-ALL.csv', skiprows=0, index_col=None, sep=',' , usecols=[2,4,5,6,7,8,9,10]).reset_index(drop=True)"
   ]
  },
  {
   "cell_type": "code",
   "execution_count": 3,
   "metadata": {
    "collapsed": false
   },
   "outputs": [
    {
     "data": {
      "text/html": [
       "<div>\n",
       "<table border=\"1\" class=\"dataframe\">\n",
       "  <thead>\n",
       "    <tr style=\"text-align: right;\">\n",
       "      <th></th>\n",
       "      <th>cand_nm</th>\n",
       "      <th>contbr_city</th>\n",
       "      <th>contbr_st</th>\n",
       "      <th>contbr_zip</th>\n",
       "      <th>contbr_employer</th>\n",
       "      <th>contbr_occupation</th>\n",
       "      <th>contb_receipt_amt</th>\n",
       "      <th>contb_receipt_dt</th>\n",
       "    </tr>\n",
       "  </thead>\n",
       "  <tbody>\n",
       "    <tr>\n",
       "      <th>0</th>\n",
       "      <td>Rubio, Marco</td>\n",
       "      <td>APO</td>\n",
       "      <td>AE</td>\n",
       "      <td>9096</td>\n",
       "      <td>RETIRED</td>\n",
       "      <td>RETIRED</td>\n",
       "      <td>100.0</td>\n",
       "      <td>18-JAN-16</td>\n",
       "    </tr>\n",
       "    <tr>\n",
       "      <th>1</th>\n",
       "      <td>Rubio, Marco</td>\n",
       "      <td>APO</td>\n",
       "      <td>AE</td>\n",
       "      <td>9096</td>\n",
       "      <td>RETIRED</td>\n",
       "      <td>RETIRED</td>\n",
       "      <td>220.5</td>\n",
       "      <td>15-JAN-16</td>\n",
       "    </tr>\n",
       "    <tr>\n",
       "      <th>2</th>\n",
       "      <td>Rubio, Marco</td>\n",
       "      <td>APO</td>\n",
       "      <td>AE</td>\n",
       "      <td>90120060</td>\n",
       "      <td>GOVERNMENT</td>\n",
       "      <td>ATTORNEY</td>\n",
       "      <td>500.0</td>\n",
       "      <td>09-FEB-16</td>\n",
       "    </tr>\n",
       "    <tr>\n",
       "      <th>3</th>\n",
       "      <td>Rubio, Marco</td>\n",
       "      <td>APO</td>\n",
       "      <td>AE</td>\n",
       "      <td>90120096</td>\n",
       "      <td>GOVERNMENT</td>\n",
       "      <td>PILOT</td>\n",
       "      <td>500.0</td>\n",
       "      <td>09-FEB-16</td>\n",
       "    </tr>\n",
       "    <tr>\n",
       "      <th>4</th>\n",
       "      <td>Rubio, Marco</td>\n",
       "      <td>APO</td>\n",
       "      <td>AE</td>\n",
       "      <td>90120096</td>\n",
       "      <td>GOVERNMENT</td>\n",
       "      <td>PILOT</td>\n",
       "      <td>500.0</td>\n",
       "      <td>09-FEB-16</td>\n",
       "    </tr>\n",
       "  </tbody>\n",
       "</table>\n",
       "</div>"
      ],
      "text/plain": [
       "        cand_nm contbr_city contbr_st contbr_zip contbr_employer  \\\n",
       "0  Rubio, Marco         APO        AE       9096         RETIRED   \n",
       "1  Rubio, Marco         APO        AE       9096         RETIRED   \n",
       "2  Rubio, Marco         APO        AE   90120060      GOVERNMENT   \n",
       "3  Rubio, Marco         APO        AE   90120096      GOVERNMENT   \n",
       "4  Rubio, Marco         APO        AE   90120096      GOVERNMENT   \n",
       "\n",
       "  contbr_occupation  contb_receipt_amt contb_receipt_dt  \n",
       "0           RETIRED              100.0        18-JAN-16  \n",
       "1           RETIRED              220.5        15-JAN-16  \n",
       "2          ATTORNEY              500.0        09-FEB-16  \n",
       "3             PILOT              500.0        09-FEB-16  \n",
       "4             PILOT              500.0        09-FEB-16  "
      ]
     },
     "execution_count": 3,
     "metadata": {},
     "output_type": "execute_result"
    }
   ],
   "source": [
    "contrib_df.head() "
   ]
  },
  {
   "cell_type": "code",
   "execution_count": 4,
   "metadata": {
    "collapsed": false
   },
   "outputs": [],
   "source": [
    "# remove all refunded transactions\n",
    "contrib_df = contrib_df[contrib_df.contb_receipt_amt > 0]"
   ]
  },
  {
   "cell_type": "code",
   "execution_count": 5,
   "metadata": {
    "collapsed": false
   },
   "outputs": [],
   "source": [
    "# format date column\n",
    "contrib_df.contb_receipt_dt = pd.to_datetime(contrib_df.contb_receipt_dt, format='%d-%b-%y')"
   ]
  },
  {
   "cell_type": "code",
   "execution_count": 6,
   "metadata": {
    "collapsed": false
   },
   "outputs": [
    {
     "name": "stderr",
     "output_type": "stream",
     "text": [
      "/usr/lib/python2.7/site-packages/ipykernel/__main__.py:2: FutureWarning: currently extract(expand=None) means expand=False (return Index/Series/DataFrame) but in a future version of pandas this will be changed to expand=True (return DataFrame)\n",
      "  from ipykernel import kernelapp as app\n"
     ]
    }
   ],
   "source": [
    "# extract last name of canditate only\n",
    "contrib_df.cand_nm = contrib_df.cand_nm.str.extract('(\\w+),')"
   ]
  },
  {
   "cell_type": "code",
   "execution_count": 7,
   "metadata": {
    "collapsed": false
   },
   "outputs": [],
   "source": [
    "tot_contrib = contrib_df.groupby('cand_nm')['contb_receipt_amt'].sum()"
   ]
  },
  {
   "cell_type": "code",
   "execution_count": 8,
   "metadata": {
    "collapsed": false
   },
   "outputs": [],
   "source": [
    "# how much each candidate got for each day \n",
    "#contrib_df.groupby(['cand_nm', 'contb_receipt_dt']).sum()['contb_receipt_amt']"
   ]
  },
  {
   "cell_type": "markdown",
   "metadata": {},
   "source": [
    "http://www.realclearpolitics.com/epolls/2016/president/democratic_delegate_count.html, http://www.realclearpolitics.com/epolls/2016/president/republican_delegate_count.html"
   ]
  },
  {
   "cell_type": "code",
   "execution_count": 9,
   "metadata": {
    "collapsed": false
   },
   "outputs": [
    {
     "data": {
      "text/html": [
       "<div>\n",
       "<table border=\"1\" class=\"dataframe\">\n",
       "  <thead>\n",
       "    <tr style=\"text-align: right;\">\n",
       "      <th></th>\n",
       "      <th>State</th>\n",
       "      <th>Date</th>\n",
       "      <th>Delegates</th>\n",
       "      <th>Clinton</th>\n",
       "      <th>Sanders</th>\n",
       "      <th>Delegate Allocation</th>\n",
       "      <th>Open/Closed</th>\n",
       "    </tr>\n",
       "  </thead>\n",
       "  <tbody>\n",
       "    <tr>\n",
       "      <th>0</th>\n",
       "      <td>Iowa</td>\n",
       "      <td>February 1</td>\n",
       "      <td>44 (8)</td>\n",
       "      <td>23</td>\n",
       "      <td>21</td>\n",
       "      <td>Caucus</td>\n",
       "      <td>Semi-open</td>\n",
       "    </tr>\n",
       "    <tr>\n",
       "      <th>1</th>\n",
       "      <td>New Hampshire</td>\n",
       "      <td>February 9</td>\n",
       "      <td>24 (8)</td>\n",
       "      <td>9</td>\n",
       "      <td>15</td>\n",
       "      <td>Primary</td>\n",
       "      <td>Semi-closed</td>\n",
       "    </tr>\n",
       "    <tr>\n",
       "      <th>2</th>\n",
       "      <td>Nevada</td>\n",
       "      <td>February 20</td>\n",
       "      <td>35 (8)</td>\n",
       "      <td>20</td>\n",
       "      <td>15</td>\n",
       "      <td>Caucus</td>\n",
       "      <td>Closed</td>\n",
       "    </tr>\n",
       "    <tr>\n",
       "      <th>3</th>\n",
       "      <td>South Carolina</td>\n",
       "      <td>February 27</td>\n",
       "      <td>53 (6)</td>\n",
       "      <td>39</td>\n",
       "      <td>14</td>\n",
       "      <td>Primary</td>\n",
       "      <td>Open</td>\n",
       "    </tr>\n",
       "    <tr>\n",
       "      <th>4</th>\n",
       "      <td>Alabama</td>\n",
       "      <td>March 1</td>\n",
       "      <td>53 (7)</td>\n",
       "      <td>44</td>\n",
       "      <td>9</td>\n",
       "      <td>Primary</td>\n",
       "      <td>Open</td>\n",
       "    </tr>\n",
       "  </tbody>\n",
       "</table>\n",
       "</div>"
      ],
      "text/plain": [
       "            State         Date Delegates  Clinton  Sanders  \\\n",
       "0            Iowa   February 1    44 (8)       23       21   \n",
       "1   New Hampshire   February 9    24 (8)        9       15   \n",
       "2          Nevada  February 20    35 (8)       20       15   \n",
       "3  South Carolina  February 27    53 (6)       39       14   \n",
       "4         Alabama      March 1    53 (7)       44        9   \n",
       "\n",
       "  Delegate Allocation  Open/Closed  \n",
       "0              Caucus    Semi-open  \n",
       "1             Primary  Semi-closed  \n",
       "2              Caucus       Closed  \n",
       "3             Primary         Open  \n",
       "4             Primary         Open  "
      ]
     },
     "execution_count": 9,
     "metadata": {},
     "output_type": "execute_result"
    }
   ],
   "source": [
    "results_dem = pd.read_table('democratic.txt',sep='\\t')\n",
    "results_dem.head()"
   ]
  },
  {
   "cell_type": "code",
   "execution_count": 10,
   "metadata": {
    "collapsed": false
   },
   "outputs": [],
   "source": [
    "results_dem.Date = pd.to_datetime(results_dem.Date + ' 2016', format='%B %d %Y', errors='coerce')"
   ]
  },
  {
   "cell_type": "code",
   "execution_count": 11,
   "metadata": {
    "collapsed": false
   },
   "outputs": [],
   "source": [
    "results_rep = pd.read_table('republican.txt',sep='\\t')"
   ]
  },
  {
   "cell_type": "code",
   "execution_count": 12,
   "metadata": {
    "collapsed": true
   },
   "outputs": [],
   "source": [
    "results_rep.Date = pd.to_datetime(results_rep.Date + ' 2016', format='%B %d %Y', errors='coerce')"
   ]
  },
  {
   "cell_type": "code",
   "execution_count": 13,
   "metadata": {
    "collapsed": false
   },
   "outputs": [
    {
     "data": {
      "text/html": [
       "<div>\n",
       "<table border=\"1\" class=\"dataframe\">\n",
       "  <thead>\n",
       "    <tr style=\"text-align: right;\">\n",
       "      <th></th>\n",
       "      <th>State</th>\n",
       "      <th>Date</th>\n",
       "      <th>Delegates</th>\n",
       "      <th>Trump</th>\n",
       "      <th>Cruz</th>\n",
       "      <th>Rubio</th>\n",
       "      <th>Kasich</th>\n",
       "      <th>Primary/Caucus</th>\n",
       "      <th>Delegate Allocation</th>\n",
       "      <th>Open/Closed</th>\n",
       "    </tr>\n",
       "  </thead>\n",
       "  <tbody>\n",
       "    <tr>\n",
       "      <th>0</th>\n",
       "      <td>Iowa</td>\n",
       "      <td>2016-02-01</td>\n",
       "      <td>30</td>\n",
       "      <td>7.0</td>\n",
       "      <td>8.0</td>\n",
       "      <td>7.0</td>\n",
       "      <td>1.0</td>\n",
       "      <td>Caucus</td>\n",
       "      <td>Proportional</td>\n",
       "      <td>Closed</td>\n",
       "    </tr>\n",
       "    <tr>\n",
       "      <th>1</th>\n",
       "      <td>New Hampshire</td>\n",
       "      <td>2016-02-09</td>\n",
       "      <td>23</td>\n",
       "      <td>11.0</td>\n",
       "      <td>3.0</td>\n",
       "      <td>2.0</td>\n",
       "      <td>4.0</td>\n",
       "      <td>Primary</td>\n",
       "      <td>Proportional*</td>\n",
       "      <td>Open**</td>\n",
       "    </tr>\n",
       "    <tr>\n",
       "      <th>2</th>\n",
       "      <td>South Carolina</td>\n",
       "      <td>2016-02-20</td>\n",
       "      <td>50</td>\n",
       "      <td>50.0</td>\n",
       "      <td>0.0</td>\n",
       "      <td>0.0</td>\n",
       "      <td>0.0</td>\n",
       "      <td>Primary</td>\n",
       "      <td>Winner Take All∇</td>\n",
       "      <td>Open</td>\n",
       "    </tr>\n",
       "    <tr>\n",
       "      <th>3</th>\n",
       "      <td>Nevada</td>\n",
       "      <td>2016-02-23</td>\n",
       "      <td>30</td>\n",
       "      <td>14.0</td>\n",
       "      <td>6.0</td>\n",
       "      <td>7.0</td>\n",
       "      <td>1.0</td>\n",
       "      <td>Caucus</td>\n",
       "      <td>Proportional</td>\n",
       "      <td>Closed</td>\n",
       "    </tr>\n",
       "    <tr>\n",
       "      <th>4</th>\n",
       "      <td>Alabama</td>\n",
       "      <td>2016-03-01</td>\n",
       "      <td>50</td>\n",
       "      <td>36.0</td>\n",
       "      <td>13.0</td>\n",
       "      <td>1.0</td>\n",
       "      <td>0.0</td>\n",
       "      <td>Primary</td>\n",
       "      <td>Proportional*#∇</td>\n",
       "      <td>Open</td>\n",
       "    </tr>\n",
       "  </tbody>\n",
       "</table>\n",
       "</div>"
      ],
      "text/plain": [
       "            State       Date  Delegates  Trump  Cruz  Rubio  Kasich  \\\n",
       "0            Iowa 2016-02-01         30    7.0   8.0    7.0     1.0   \n",
       "1   New Hampshire 2016-02-09         23   11.0   3.0    2.0     4.0   \n",
       "2  South Carolina 2016-02-20         50   50.0   0.0    0.0     0.0   \n",
       "3          Nevada 2016-02-23         30   14.0   6.0    7.0     1.0   \n",
       "4         Alabama 2016-03-01         50   36.0  13.0    1.0     0.0   \n",
       "\n",
       "  Primary/Caucus Delegate Allocation Open/Closed  \n",
       "0         Caucus        Proportional      Closed  \n",
       "1        Primary       Proportional*      Open**  \n",
       "2        Primary    Winner Take All∇        Open  \n",
       "3         Caucus        Proportional      Closed  \n",
       "4        Primary     Proportional*#∇        Open  "
      ]
     },
     "execution_count": 13,
     "metadata": {},
     "output_type": "execute_result"
    }
   ],
   "source": [
    "results_rep.head()"
   ]
  },
  {
   "cell_type": "code",
   "execution_count": null,
   "metadata": {
    "collapsed": false
   },
   "outputs": [],
   "source": []
  },
  {
   "cell_type": "code",
   "execution_count": 14,
   "metadata": {
    "collapsed": false
   },
   "outputs": [],
   "source": [
    "tot_del = pd.concat([results_rep[['Trump', 'Cruz', 'Rubio', 'Kasich']].sum(axis=0)\n",
    "          , results_dem[['Clinton','Sanders']].sum(axis=0)])"
   ]
  },
  {
   "cell_type": "code",
   "execution_count": 15,
   "metadata": {
    "collapsed": false
   },
   "outputs": [],
   "source": [
    "scatter_df = pd.merge(pd.DataFrame(tot_contrib), pd.DataFrame(tot_del), left_index=True, right_index=True, how='outer').fillna(0)"
   ]
  },
  {
   "cell_type": "code",
   "execution_count": 16,
   "metadata": {
    "collapsed": false
   },
   "outputs": [],
   "source": [
    "scatter_df.columns = ['Contributions', 'Delegates']"
   ]
  },
  {
   "cell_type": "markdown",
   "metadata": {
    "collapsed": true
   },
   "source": [
    "There are a large group of candidates who did not receive any delegates. [look up who dropped out before the first primary]\n",
    "But it looks like there is a linear trend. [calculate r here]."
   ]
  },
  {
   "cell_type": "code",
   "execution_count": 25,
   "metadata": {
    "collapsed": false
   },
   "outputs": [
    {
     "data": {
      "text/plain": [
       "<matplotlib.text.Text at 0x6ffa43226d0>"
      ]
     },
     "execution_count": 25,
     "metadata": {},
     "output_type": "execute_result"
    },
    {
     "data": {
      "image/png": "[encoded data removed]",
      "text/plain": [
       "<matplotlib.figure.Figure at 0x6ffa4d872d0>"
      ]
     },
     "metadata": {},
     "output_type": "display_data"
    }
   ],
   "source": [
    "sns.regplot('Delegates','Contributions', data=scatter_df)\n",
    "plt.title('Contributions vs Delegates Won')"
   ]
  },
  {
   "cell_type": "code",
   "execution_count": 23,
   "metadata": {
    "collapsed": false
   },
   "outputs": [],
   "source": [
    "# other things to explore:\n",
    "# fundraising rate vs delegate rate"
   ]
  },
  {
   "cell_type": "code",
   "execution_count": null,
   "metadata": {
    "collapsed": false
   },
   "outputs": [],
   "source": []
  },
  {
   "cell_type": "code",
   "execution_count": null,
   "metadata": {
    "collapsed": false
   },
   "outputs": [],
   "source": []
  }
 ],
 "metadata": {
  "kernelspec": {
   "display_name": "Python 2",
   "language": "python",
   "name": "python2"
  },
  "language_info": {
   "codemirror_mode": {
    "name": "ipython",
    "version": 2
   },
   "file_extension": ".py",
   "mimetype": "text/x-python",
   "name": "python",
   "nbconvert_exporter": "python",
   "pygments_lexer": "ipython2",
   "version": "2.7.10"
  }
 },
 "nbformat": 4,
 "nbformat_minor": 0
}
